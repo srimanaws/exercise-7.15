{
 "cells": [
  {
   "cell_type": "code",
   "execution_count": 1,
   "id": "ea9700d2-0e65-4537-8366-f3431cdb1a87",
   "metadata": {},
   "outputs": [
    {
     "name": "stdout",
     "output_type": "stream",
     "text": [
      "Array 3 (Vertical Stacking with Concatenate):\n",
      " [[0 1]\n",
      " [2 3]\n",
      " [4 5]\n",
      " [6 7]]\n",
      "\n",
      "Array 4 (Horizontal Stacking with Concatenate):\n",
      " [[0 1 4 5]\n",
      " [2 3 6 7]]\n",
      "\n",
      "Array 5 (Vertical Stacking of Array 4 with Concatenate):\n",
      " [[0 1 4 5]\n",
      " [2 3 6 7]\n",
      " [0 1 4 5]\n",
      " [2 3 6 7]]\n",
      "\n",
      "Array 6 (Horizontal Stacking of Array 3 with Concatenate):\n",
      " [[0 1 0 1]\n",
      " [2 3 2 3]\n",
      " [4 5 4 5]\n",
      " [6 7 6 7]]\n"
     ]
    }
   ],
   "source": [
    "# Exercise 7.15 by sriman\n",
    "import numpy as np\n",
    "\n",
    "# Step 1: First, we create our two arrays\n",
    "array1 = np.array([[0, 1], [2, 3]])\n",
    "array2 = np.array([[4, 5], [6, 7]])\n",
    "\n",
    "# Step 2: Use np.concatenate() to stack array1 and array2 vertically (on top of each other)\n",
    "array3 = np.concatenate((array1, array2), axis=0)\n",
    "print(\"Array 3 (Vertical Stacking with Concatenate):\\n\", array3)\n",
    "\n",
    "# Step 3: Now, let’s stack them horizontally (side by side)\n",
    "array4 = np.concatenate((array1, array2), axis=1)\n",
    "print(\"\\nArray 4 (Horizontal Stacking with Concatenate):\\n\", array4)\n",
    "\n",
    "# Step 4: Create a new array by stacking two copies of array4 vertically\n",
    "array5 = np.concatenate((array4, array4), axis=0)\n",
    "print(\"\\nArray 5 (Vertical Stacking of Array 4 with Concatenate):\\n\", array5)\n",
    "\n",
    "# Step 5: Lastly, stack two copies of array3 horizontally\n",
    "array6 = np.concatenate((array3, array3), axis=1)\n",
    "print(\"\\nArray 6 (Horizontal Stacking of Array 3 with Concatenate):\\n\", array6)\n"
   ]
  },
  {
   "cell_type": "code",
   "execution_count": null,
   "id": "868fce7e-9282-4ed4-aead-c3e91632f7e9",
   "metadata": {},
   "outputs": [],
   "source": []
  }
 ],
 "metadata": {
  "kernelspec": {
   "display_name": "Python 3 (ipykernel)",
   "language": "python",
   "name": "python3"
  },
  "language_info": {
   "codemirror_mode": {
    "name": "ipython",
    "version": 3
   },
   "file_extension": ".py",
   "mimetype": "text/x-python",
   "name": "python",
   "nbconvert_exporter": "python",
   "pygments_lexer": "ipython3",
   "version": "3.12.4"
  }
 },
 "nbformat": 4,
 "nbformat_minor": 5
}
